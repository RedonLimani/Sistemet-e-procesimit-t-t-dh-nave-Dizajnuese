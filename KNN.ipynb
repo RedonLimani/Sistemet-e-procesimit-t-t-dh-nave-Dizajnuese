{
 "cells": [
  {
   "cell_type": "markdown",
   "id": "bc2b1b5d",
   "metadata": {},
   "source": [
    "Imports"
   ]
  },
  {
   "cell_type": "code",
   "execution_count": 1,
   "id": "b9cb7850",
   "metadata": {},
   "outputs": [],
   "source": [
    "import pandas as pd\n",
    "import numpy as np\n",
    "from numpy import random"
   ]
  },
  {
   "cell_type": "markdown",
   "id": "3fa857e7",
   "metadata": {},
   "source": [
    "Label Encoding\n"
   ]
  },
  {
   "cell_type": "raw",
   "id": "860c6c49-68d8-438c-97e8-44c3353d9e08",
   "metadata": {
    "scrolled": true
   },
   "source": [
    "df=pd.read_csv(\"cardata.csv\")\n",
    "\n",
    "#Naming Columns\n",
    "df.columns=['BuyingPrice','MaintenancePrice','NumberOfDoors','PeopleCapacity','Luggage Size','Safety','Rating']\n",
    "\n",
    "\n",
    "# for i in df.columns:\n",
    "#     print(df[i].unique())\n",
    "\n",
    "\n",
    "PriceVal= {\"vhigh\": 4, \"high\": 3, \"med\": 2, \"low\": 1}\n",
    "df[\"BuyingPrice\"]=df[\"BuyingPrice\"].map(PriceVal)\n",
    "df[\"MaintenancePrice\"]=df[\"MaintenancePrice\"].map(PriceVal)\n",
    "\n",
    "doorVal={\"2\": 2, \"3\": 3, \"4\": 4, \"5more\": 6}\n",
    "df[\"NumberOfDoors\"]=df[\"NumberOfDoors\"].map(doorVal)\n",
    "\n",
    "CapacityVal={\"2\": 2, \"4\": 4, \"more\": 6}\n",
    "df[\"PeopleCapacity\"]=df[\"PeopleCapacity\"].map(CapacityVal)\n",
    "\n",
    "LuggageVal={\"small\": 1, \"med\": 2, \"big\": 3}\n",
    "df[\"Luggage Size\"]=df[\"Luggage Size\"].map(LuggageVal)\n",
    "\n",
    "SafetyVal={\"low\": 1, \"med\": 2, \"high\": 3}\n",
    "df[\"Safety\"]=df[\"Safety\"].map(SafetyVal)\n",
    "\n",
    "RatingVal={\"unacc\": 1, \"acc\": 2, \"good\": 3,\"vgood\":4}\n",
    "df[\"Rating\"]=df[\"Rating\"].map(RatingVal)\n",
    "\n",
    "#df=df[[\"BuyingPrice\",\"MaintenancePrice\",\"PeopleCapacity\",\"Safety\",\"Rating\"]]\n",
    "\n",
    "#EncodedDf = pd.get_dummies(df, columns = [\"BuyingPrice\",\"MaintenancePrice\",\"PeopleCapacity\",\"Safety\",\"Rating\"])\n",
    "\n",
    "#print(EncodedDf)\n",
    "\n",
    "\n"
   ]
  },
  {
   "cell_type": "raw",
   "id": "f9b63db5-db1d-46ce-89e6-54c6ab8d5373",
   "metadata": {
    "scrolled": true
   },
   "source": [
    "import seaborn as sns\n",
    "import matplotlib.pyplot as plt\n",
    "corr = df.corr()\n",
    "plt.figure(figsize=(10, 8))\n",
    "sns.heatmap(corr, annot=True)\n",
    "#plt.show()\n"
   ]
  },
  {
   "cell_type": "raw",
   "id": "7bd24b19-4cca-407e-809a-ecd975b1aa62",
   "metadata": {},
   "source": [
    "from sklearn.model_selection import train_test_split\n",
    "from sklearn.neighbors import KNeighborsClassifier\n",
    "from sklearn.metrics import accuracy_score, confusion_matrix\n",
    "\n",
    "#df=df[[\"BuyingPrice\",\"MaintenancePrice\",\"PeopleCapacity\",\"Safety\",\"Rating\"]]\n",
    "\n",
    "x = df.drop(columns=[\"Rating\"])\n",
    "y = df[\"Rating\"]\n",
    "\n",
    "x_train, x_test, y_train, y_test = train_test_split(x, y, test_size=0.2, random_state=42)\n",
    "\n",
    "for i in range(1,6):\n",
    "    knn = KNeighborsClassifier(n_neighbors=i)\n",
    "    knn.fit(x_train, y_train)\n",
    "\n",
    "    y_pred = knn.predict(x_test)\n",
    "    \n",
    "    accuracy = accuracy_score(y_test, y_pred)\n",
    "    print(\"Accuracy:\" ,accuracy)\n"
   ]
  },
  {
   "cell_type": "raw",
   "id": "7db6c4f8-854f-4305-9008-4a533af3bd86",
   "metadata": {
    "scrolled": true
   },
   "source": [
    "import seaborn as sns\n",
    "import matplotlib.pyplot as plt\n",
    "cm = confusion_matrix(y_test, y_pred)\n",
    "\n",
    "plt.figure(figsize=(8, 6))\n",
    "sns.heatmap(cm, annot=True, fmt='d', cmap='Blues', xticklabels=RatingVal.keys(), yticklabels=RatingVal.keys())\n",
    "plt.xlabel('Predicted')\n",
    "plt.ylabel('Desired')\n",
    "plt.title('Confusion Matrix')\n",
    "plt.show()"
   ]
  },
  {
   "cell_type": "markdown",
   "id": "264c2b0a",
   "metadata": {},
   "source": [
    "KNN From scratch\n"
   ]
  },
  {
   "cell_type": "markdown",
   "id": "df99a1cb",
   "metadata": {},
   "source": [
    "Euclidian Distance"
   ]
  },
  {
   "cell_type": "code",
   "execution_count": 1,
   "id": "f1656c15",
   "metadata": {},
   "outputs": [],
   "source": [
    "from math import sqrt\n",
    "\n",
    "def Edist(entry1,entry2):\n",
    "    distance=0\n",
    "    for i in range(len(entry1)):\n",
    "        distance += (entry1[i] - entry2[i])**2\n",
    "    return sqrt(distance)\n",
    "\n"
   ]
  },
  {
   "cell_type": "code",
   "execution_count": 2,
   "id": "ab8e08c0",
   "metadata": {},
   "outputs": [],
   "source": [
    "def Mdist(entry1,entry2):\n",
    "    distance=0\n",
    "    for i in range(len(entry1)):\n",
    "        distance += abs(entry1[i] - entry2[i])\n",
    "    return sqrt(distance)\n"
   ]
  },
  {
   "cell_type": "code",
   "execution_count": 91,
   "id": "e44d49d3",
   "metadata": {
    "scrolled": true
   },
   "outputs": [],
   "source": [
    "\n",
    "\n",
    "row=[3,4,4,6,2,3,1]\n",
    "def kojshit(train,row,k):\n",
    "\n",
    "    distancat={}\n",
    "    for index, rows in train.iterrows():\n",
    "        #distancat[index] = Edist(row,rows)\n",
    "        distancat[index] = Mdist(row,rows)\n",
    "        \n",
    "    distancat= dict(sorted(distancat.items(), key=lambda item: item[1]))\n",
    "    kojshit=(list(distancat.items())[:k])\n",
    "    \n",
    "    Predicted=[]\n",
    "    \n",
    "    for i in range(k):\n",
    "        index=kojshit[i][0]\n",
    "        Predicted.append(df.loc[index,\"hospital_death\"])\n",
    "    prediction = max(set(Predicted), key=Predicted.count)\n",
    "    return prediction\n",
    "\n",
    "#print((kojshit(row,100)))"
   ]
  },
  {
   "cell_type": "raw",
   "id": "e9682df5-9e66-423b-beb7-23125dc9156f",
   "metadata": {
    "scrolled": true
   },
   "source": [
    "#Normalize data\n",
    "def normalizimi():\n",
    "    for i in df.columns:\n",
    "        df[i]=(df[i]-df[i].min())/(df[i].max()-df[i].min())\n",
    "#df[\"Safety\"]=(df[\"Safety\"]-1)/(3-1)\n",
    "normalizimi()\n",
    "for i in df.columns:\n",
    "    print(df[i].unique())"
   ]
  },
  {
   "cell_type": "code",
   "execution_count": 93,
   "id": "939150de",
   "metadata": {},
   "outputs": [],
   "source": [
    "import numpy as np\n",
    "\n",
    "def folding(df,n):\n",
    "    folds = []\n",
    "    dfcopy = df.copy()\n",
    "    foldsize = dfcopy.shape[0] // n\n",
    "    indices = np.random.permutation(dfcopy.index)\n",
    "    \n",
    "    for i in range(n):\n",
    "        fold_indices = indices[i * foldsize: (i + 1) * foldsize]\n",
    "        fold = dfcopy.iloc[fold_indices]\n",
    "        folds.append(fold)\n",
    "    \n",
    "    return folds\n",
    "#folds(df,5)"
   ]
  },
  {
   "cell_type": "code",
   "execution_count": 94,
   "id": "01df5661",
   "metadata": {},
   "outputs": [],
   "source": [
    "def accuarcy_func(desired,output):\n",
    "    correct=0\n",
    "    for i in range(len(desired)):\n",
    "        if desired.iloc[i] == output[i]:\n",
    "            correct += 1\n",
    "    return correct / float(len(desired)) * 100.0"
   ]
  },
  {
   "cell_type": "code",
   "execution_count": 3,
   "id": "00327349",
   "metadata": {},
   "outputs": [],
   "source": [
    "def evaluate(df, algorithm, n, *args):\n",
    "    folds = folding(df, n)\n",
    "    scores = list()\n",
    "    for fold in folds:\n",
    "        traindf = [f for f in folds if not f.equals(fold)]\n",
    "        train_set = pd.concat(traindf)\n",
    "        test_set = fold.copy().drop([\"hospital_death\"], axis=1)\n",
    "        \n",
    "        predicted = algorithm(train_set, test_set, *args)\n",
    "        desired = fold[\"hospital_death\"]\n",
    "        correctness = accuarcy_func(desired, predicted)\n",
    "        scores.append(correctness)\n",
    "    return scores"
   ]
  },
  {
   "cell_type": "code",
   "execution_count": 96,
   "id": "f437ad65",
   "metadata": {},
   "outputs": [],
   "source": [
    "def knn(train,test,n):\n",
    "    predictions=[]\n",
    "    for i in range(test.shape[0]):\n",
    "        predictions.append(kojshit(train,test.iloc[i],n))\n",
    "    return predictions"
   ]
  },
  {
   "cell_type": "code",
   "execution_count": 97,
   "id": "4c74d3d6",
   "metadata": {
    "scrolled": true
   },
   "outputs": [
    {
     "name": "stdout",
     "output_type": "stream",
     "text": [
      "Scores: [97.68115942028986, 95.65217391304348, 97.10144927536231, 96.81159420289856, 95.3623188405797]\n",
      "Mean Accuracy: 96.522%\n"
     ]
    }
   ],
   "source": [
    "scores = evaluate(df, knn, 5, 5)\n",
    "print('Scores: %s' % scores)\n",
    "print('Mean Accuracy: %.3f%%' % (sum(scores)/float(len(scores))))"
   ]
  },
  {
   "cell_type": "code",
   "execution_count": null,
   "id": "0b2c49bd",
   "metadata": {},
   "outputs": [],
   "source": []
  },
  {
   "cell_type": "code",
   "execution_count": null,
   "id": "a43c7b72",
   "metadata": {},
   "outputs": [],
   "source": []
  },
  {
   "cell_type": "code",
   "execution_count": null,
   "id": "25ccc4bc",
   "metadata": {},
   "outputs": [],
   "source": []
  }
 ],
 "metadata": {
  "kernelspec": {
   "display_name": "Python 3 (ipykernel)",
   "language": "python",
   "name": "python3"
  },
  "language_info": {
   "codemirror_mode": {
    "name": "ipython",
    "version": 3
   },
   "file_extension": ".py",
   "mimetype": "text/x-python",
   "name": "python",
   "nbconvert_exporter": "python",
   "pygments_lexer": "ipython3",
   "version": "3.13.0"
  }
 },
 "nbformat": 4,
 "nbformat_minor": 5
}
